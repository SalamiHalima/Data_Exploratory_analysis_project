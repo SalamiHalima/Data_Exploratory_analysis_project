{
 "cells": [
  {
   "cell_type": "code",
   "execution_count": 1,
   "id": "80f844ed",
   "metadata": {
    "ExecuteTime": {
     "end_time": "2023-02-12T11:27:07.056302Z",
     "start_time": "2023-02-12T11:27:06.001367Z"
    }
   },
   "outputs": [],
   "source": [
    "import numpy as np\n",
    "from matplotlib import pyplot as plt\n",
    "import os\n",
    "import pandas as pd"
   ]
  },
  {
   "cell_type": "code",
   "execution_count": 3,
   "id": "09cfcef3",
   "metadata": {
    "ExecuteTime": {
     "end_time": "2023-02-12T11:27:29.139757Z",
     "start_time": "2023-02-12T11:27:29.070078Z"
    },
    "scrolled": false
   },
   "outputs": [
    {
     "data": {
      "text/html": [
       "<div>\n",
       "<style scoped>\n",
       "    .dataframe tbody tr th:only-of-type {\n",
       "        vertical-align: middle;\n",
       "    }\n",
       "\n",
       "    .dataframe tbody tr th {\n",
       "        vertical-align: top;\n",
       "    }\n",
       "\n",
       "    .dataframe thead th {\n",
       "        text-align: right;\n",
       "    }\n",
       "</style>\n",
       "<table border=\"1\" class=\"dataframe\">\n",
       "  <thead>\n",
       "    <tr style=\"text-align: right;\">\n",
       "      <th></th>\n",
       "      <th>App</th>\n",
       "      <th>Category</th>\n",
       "      <th>Rating</th>\n",
       "      <th>Reviews</th>\n",
       "      <th>Size</th>\n",
       "      <th>Installs</th>\n",
       "      <th>Type</th>\n",
       "      <th>Price</th>\n",
       "      <th>Content Rating</th>\n",
       "      <th>Genres</th>\n",
       "      <th>Last Updated</th>\n",
       "      <th>Current Ver</th>\n",
       "      <th>Android Ver</th>\n",
       "    </tr>\n",
       "  </thead>\n",
       "  <tbody>\n",
       "    <tr>\n",
       "      <th>0</th>\n",
       "      <td>Photo Editor &amp; Candy Camera &amp; Grid &amp; ScrapBook</td>\n",
       "      <td>ART_AND_DESIGN</td>\n",
       "      <td>4.1</td>\n",
       "      <td>159</td>\n",
       "      <td>19M</td>\n",
       "      <td>10,000+</td>\n",
       "      <td>Free</td>\n",
       "      <td>0</td>\n",
       "      <td>Everyone</td>\n",
       "      <td>Art &amp; Design</td>\n",
       "      <td>January 7, 2018</td>\n",
       "      <td>1.0.0</td>\n",
       "      <td>4.0.3 and up</td>\n",
       "    </tr>\n",
       "    <tr>\n",
       "      <th>1</th>\n",
       "      <td>Coloring book moana</td>\n",
       "      <td>ART_AND_DESIGN</td>\n",
       "      <td>3.9</td>\n",
       "      <td>967</td>\n",
       "      <td>14M</td>\n",
       "      <td>500,000+</td>\n",
       "      <td>Free</td>\n",
       "      <td>0</td>\n",
       "      <td>Everyone</td>\n",
       "      <td>Art &amp; Design;Pretend Play</td>\n",
       "      <td>January 15, 2018</td>\n",
       "      <td>2.0.0</td>\n",
       "      <td>4.0.3 and up</td>\n",
       "    </tr>\n",
       "    <tr>\n",
       "      <th>2</th>\n",
       "      <td>U Launcher Lite – FREE Live Cool Themes, Hide ...</td>\n",
       "      <td>ART_AND_DESIGN</td>\n",
       "      <td>4.7</td>\n",
       "      <td>87510</td>\n",
       "      <td>8.7M</td>\n",
       "      <td>5,000,000+</td>\n",
       "      <td>Free</td>\n",
       "      <td>0</td>\n",
       "      <td>Everyone</td>\n",
       "      <td>Art &amp; Design</td>\n",
       "      <td>August 1, 2018</td>\n",
       "      <td>1.2.4</td>\n",
       "      <td>4.0.3 and up</td>\n",
       "    </tr>\n",
       "    <tr>\n",
       "      <th>3</th>\n",
       "      <td>Sketch - Draw &amp; Paint</td>\n",
       "      <td>ART_AND_DESIGN</td>\n",
       "      <td>4.5</td>\n",
       "      <td>215644</td>\n",
       "      <td>25M</td>\n",
       "      <td>50,000,000+</td>\n",
       "      <td>Free</td>\n",
       "      <td>0</td>\n",
       "      <td>Teen</td>\n",
       "      <td>Art &amp; Design</td>\n",
       "      <td>June 8, 2018</td>\n",
       "      <td>Varies with device</td>\n",
       "      <td>4.2 and up</td>\n",
       "    </tr>\n",
       "    <tr>\n",
       "      <th>4</th>\n",
       "      <td>Pixel Draw - Number Art Coloring Book</td>\n",
       "      <td>ART_AND_DESIGN</td>\n",
       "      <td>4.3</td>\n",
       "      <td>967</td>\n",
       "      <td>2.8M</td>\n",
       "      <td>100,000+</td>\n",
       "      <td>Free</td>\n",
       "      <td>0</td>\n",
       "      <td>Everyone</td>\n",
       "      <td>Art &amp; Design;Creativity</td>\n",
       "      <td>June 20, 2018</td>\n",
       "      <td>1.1</td>\n",
       "      <td>4.4 and up</td>\n",
       "    </tr>\n",
       "    <tr>\n",
       "      <th>...</th>\n",
       "      <td>...</td>\n",
       "      <td>...</td>\n",
       "      <td>...</td>\n",
       "      <td>...</td>\n",
       "      <td>...</td>\n",
       "      <td>...</td>\n",
       "      <td>...</td>\n",
       "      <td>...</td>\n",
       "      <td>...</td>\n",
       "      <td>...</td>\n",
       "      <td>...</td>\n",
       "      <td>...</td>\n",
       "      <td>...</td>\n",
       "    </tr>\n",
       "    <tr>\n",
       "      <th>10836</th>\n",
       "      <td>Sya9a Maroc - FR</td>\n",
       "      <td>FAMILY</td>\n",
       "      <td>4.5</td>\n",
       "      <td>38</td>\n",
       "      <td>53M</td>\n",
       "      <td>5,000+</td>\n",
       "      <td>Free</td>\n",
       "      <td>0</td>\n",
       "      <td>Everyone</td>\n",
       "      <td>Education</td>\n",
       "      <td>July 25, 2017</td>\n",
       "      <td>1.48</td>\n",
       "      <td>4.1 and up</td>\n",
       "    </tr>\n",
       "    <tr>\n",
       "      <th>10837</th>\n",
       "      <td>Fr. Mike Schmitz Audio Teachings</td>\n",
       "      <td>FAMILY</td>\n",
       "      <td>5.0</td>\n",
       "      <td>4</td>\n",
       "      <td>3.6M</td>\n",
       "      <td>100+</td>\n",
       "      <td>Free</td>\n",
       "      <td>0</td>\n",
       "      <td>Everyone</td>\n",
       "      <td>Education</td>\n",
       "      <td>July 6, 2018</td>\n",
       "      <td>1.0</td>\n",
       "      <td>4.1 and up</td>\n",
       "    </tr>\n",
       "    <tr>\n",
       "      <th>10838</th>\n",
       "      <td>Parkinson Exercices FR</td>\n",
       "      <td>MEDICAL</td>\n",
       "      <td>NaN</td>\n",
       "      <td>3</td>\n",
       "      <td>9.5M</td>\n",
       "      <td>1,000+</td>\n",
       "      <td>Free</td>\n",
       "      <td>0</td>\n",
       "      <td>Everyone</td>\n",
       "      <td>Medical</td>\n",
       "      <td>January 20, 2017</td>\n",
       "      <td>1.0</td>\n",
       "      <td>2.2 and up</td>\n",
       "    </tr>\n",
       "    <tr>\n",
       "      <th>10839</th>\n",
       "      <td>The SCP Foundation DB fr nn5n</td>\n",
       "      <td>BOOKS_AND_REFERENCE</td>\n",
       "      <td>4.5</td>\n",
       "      <td>114</td>\n",
       "      <td>Varies with device</td>\n",
       "      <td>1,000+</td>\n",
       "      <td>Free</td>\n",
       "      <td>0</td>\n",
       "      <td>Mature 17+</td>\n",
       "      <td>Books &amp; Reference</td>\n",
       "      <td>January 19, 2015</td>\n",
       "      <td>Varies with device</td>\n",
       "      <td>Varies with device</td>\n",
       "    </tr>\n",
       "    <tr>\n",
       "      <th>10840</th>\n",
       "      <td>iHoroscope - 2018 Daily Horoscope &amp; Astrology</td>\n",
       "      <td>LIFESTYLE</td>\n",
       "      <td>4.5</td>\n",
       "      <td>398307</td>\n",
       "      <td>19M</td>\n",
       "      <td>10,000,000+</td>\n",
       "      <td>Free</td>\n",
       "      <td>0</td>\n",
       "      <td>Everyone</td>\n",
       "      <td>Lifestyle</td>\n",
       "      <td>July 25, 2018</td>\n",
       "      <td>Varies with device</td>\n",
       "      <td>Varies with device</td>\n",
       "    </tr>\n",
       "  </tbody>\n",
       "</table>\n",
       "<p>10841 rows × 13 columns</p>\n",
       "</div>"
      ],
      "text/plain": [
       "                                                     App             Category  \\\n",
       "0         Photo Editor & Candy Camera & Grid & ScrapBook       ART_AND_DESIGN   \n",
       "1                                    Coloring book moana       ART_AND_DESIGN   \n",
       "2      U Launcher Lite – FREE Live Cool Themes, Hide ...       ART_AND_DESIGN   \n",
       "3                                  Sketch - Draw & Paint       ART_AND_DESIGN   \n",
       "4                  Pixel Draw - Number Art Coloring Book       ART_AND_DESIGN   \n",
       "...                                                  ...                  ...   \n",
       "10836                                   Sya9a Maroc - FR               FAMILY   \n",
       "10837                   Fr. Mike Schmitz Audio Teachings               FAMILY   \n",
       "10838                             Parkinson Exercices FR              MEDICAL   \n",
       "10839                      The SCP Foundation DB fr nn5n  BOOKS_AND_REFERENCE   \n",
       "10840      iHoroscope - 2018 Daily Horoscope & Astrology            LIFESTYLE   \n",
       "\n",
       "       Rating Reviews                Size     Installs  Type Price  \\\n",
       "0         4.1     159                 19M      10,000+  Free     0   \n",
       "1         3.9     967                 14M     500,000+  Free     0   \n",
       "2         4.7   87510                8.7M   5,000,000+  Free     0   \n",
       "3         4.5  215644                 25M  50,000,000+  Free     0   \n",
       "4         4.3     967                2.8M     100,000+  Free     0   \n",
       "...       ...     ...                 ...          ...   ...   ...   \n",
       "10836     4.5      38                 53M       5,000+  Free     0   \n",
       "10837     5.0       4                3.6M         100+  Free     0   \n",
       "10838     NaN       3                9.5M       1,000+  Free     0   \n",
       "10839     4.5     114  Varies with device       1,000+  Free     0   \n",
       "10840     4.5  398307                 19M  10,000,000+  Free     0   \n",
       "\n",
       "      Content Rating                     Genres      Last Updated  \\\n",
       "0           Everyone               Art & Design   January 7, 2018   \n",
       "1           Everyone  Art & Design;Pretend Play  January 15, 2018   \n",
       "2           Everyone               Art & Design    August 1, 2018   \n",
       "3               Teen               Art & Design      June 8, 2018   \n",
       "4           Everyone    Art & Design;Creativity     June 20, 2018   \n",
       "...              ...                        ...               ...   \n",
       "10836       Everyone                  Education     July 25, 2017   \n",
       "10837       Everyone                  Education      July 6, 2018   \n",
       "10838       Everyone                    Medical  January 20, 2017   \n",
       "10839     Mature 17+          Books & Reference  January 19, 2015   \n",
       "10840       Everyone                  Lifestyle     July 25, 2018   \n",
       "\n",
       "              Current Ver         Android Ver  \n",
       "0                   1.0.0        4.0.3 and up  \n",
       "1                   2.0.0        4.0.3 and up  \n",
       "2                   1.2.4        4.0.3 and up  \n",
       "3      Varies with device          4.2 and up  \n",
       "4                     1.1          4.4 and up  \n",
       "...                   ...                 ...  \n",
       "10836                1.48          4.1 and up  \n",
       "10837                 1.0          4.1 and up  \n",
       "10838                 1.0          2.2 and up  \n",
       "10839  Varies with device  Varies with device  \n",
       "10840  Varies with device  Varies with device  \n",
       "\n",
       "[10841 rows x 13 columns]"
      ]
     },
     "execution_count": 3,
     "metadata": {},
     "output_type": "execute_result"
    }
   ],
   "source": [
    "df1 = pd.read_csv('googleplaystore.csv')\n",
    "df1"
   ]
  },
  {
   "cell_type": "code",
   "execution_count": 4,
   "id": "02474761",
   "metadata": {
    "ExecuteTime": {
     "end_time": "2023-02-12T11:27:29.346003Z",
     "start_time": "2023-02-12T11:27:29.318011Z"
    },
    "hide_input": false
   },
   "outputs": [
    {
     "name": "stdout",
     "output_type": "stream",
     "text": [
      "<class 'pandas.core.frame.DataFrame'>\n",
      "RangeIndex: 10841 entries, 0 to 10840\n",
      "Data columns (total 13 columns):\n",
      " #   Column          Non-Null Count  Dtype  \n",
      "---  ------          --------------  -----  \n",
      " 0   App             10841 non-null  object \n",
      " 1   Category        10841 non-null  object \n",
      " 2   Rating          9367 non-null   float64\n",
      " 3   Reviews         10841 non-null  object \n",
      " 4   Size            10841 non-null  object \n",
      " 5   Installs        10841 non-null  object \n",
      " 6   Type            10840 non-null  object \n",
      " 7   Price           10841 non-null  object \n",
      " 8   Content Rating  10840 non-null  object \n",
      " 9   Genres          10841 non-null  object \n",
      " 10  Last Updated    10841 non-null  object \n",
      " 11  Current Ver     10833 non-null  object \n",
      " 12  Android Ver     10838 non-null  object \n",
      "dtypes: float64(1), object(12)\n",
      "memory usage: 1.1+ MB\n"
     ]
    }
   ],
   "source": [
    "df1.info()\n",
    "#df1.shape"
   ]
  },
  {
   "cell_type": "code",
   "execution_count": 5,
   "id": "090f06a5",
   "metadata": {
    "ExecuteTime": {
     "end_time": "2023-02-12T11:27:29.521077Z",
     "start_time": "2023-02-12T11:27:29.496084Z"
    }
   },
   "outputs": [],
   "source": [
    "df = df1.drop_duplicates()#.shape "
   ]
  },
  {
   "cell_type": "code",
   "execution_count": 6,
   "id": "acde472d",
   "metadata": {
    "ExecuteTime": {
     "end_time": "2023-02-12T11:27:29.772459Z",
     "start_time": "2023-02-12T11:27:29.744462Z"
    }
   },
   "outputs": [
    {
     "data": {
      "text/plain": [
       "App                  0\n",
       "Category             0\n",
       "Rating            1465\n",
       "Reviews              0\n",
       "Size                 0\n",
       "Installs             0\n",
       "Type                 1\n",
       "Price                0\n",
       "Content Rating       1\n",
       "Genres               0\n",
       "Last Updated         0\n",
       "Current Ver          8\n",
       "Android Ver          3\n",
       "dtype: int64"
      ]
     },
     "execution_count": 6,
     "metadata": {},
     "output_type": "execute_result"
    }
   ],
   "source": [
    "df.isna().sum()"
   ]
  },
  {
   "cell_type": "code",
   "execution_count": 7,
   "id": "aa3d7708",
   "metadata": {
    "ExecuteTime": {
     "end_time": "2023-02-12T11:27:30.081866Z",
     "start_time": "2023-02-12T11:27:30.067866Z"
    }
   },
   "outputs": [
    {
     "data": {
      "text/plain": [
       "App                object\n",
       "Category           object\n",
       "Rating            float64\n",
       "Reviews            object\n",
       "Size               object\n",
       "Installs           object\n",
       "Type               object\n",
       "Price              object\n",
       "Content Rating     object\n",
       "Genres             object\n",
       "Last Updated       object\n",
       "Current Ver        object\n",
       "Android Ver        object\n",
       "dtype: object"
      ]
     },
     "execution_count": 7,
     "metadata": {},
     "output_type": "execute_result"
    }
   ],
   "source": [
    "df.dtypes"
   ]
  },
  {
   "cell_type": "markdown",
   "id": "6f6df41e",
   "metadata": {},
   "source": [
    "There was 483 duplicate in the dataset."
   ]
  },
  {
   "cell_type": "code",
   "execution_count": 8,
   "id": "ae02e281",
   "metadata": {
    "ExecuteTime": {
     "end_time": "2023-02-12T11:27:30.576581Z",
     "start_time": "2023-02-12T11:27:30.554693Z"
    }
   },
   "outputs": [
    {
     "data": {
      "text/html": [
       "<div>\n",
       "<style scoped>\n",
       "    .dataframe tbody tr th:only-of-type {\n",
       "        vertical-align: middle;\n",
       "    }\n",
       "\n",
       "    .dataframe tbody tr th {\n",
       "        vertical-align: top;\n",
       "    }\n",
       "\n",
       "    .dataframe thead th {\n",
       "        text-align: right;\n",
       "    }\n",
       "</style>\n",
       "<table border=\"1\" class=\"dataframe\">\n",
       "  <thead>\n",
       "    <tr style=\"text-align: right;\">\n",
       "      <th></th>\n",
       "      <th>Rating</th>\n",
       "    </tr>\n",
       "  </thead>\n",
       "  <tbody>\n",
       "    <tr>\n",
       "      <th>count</th>\n",
       "      <td>8893.000000</td>\n",
       "    </tr>\n",
       "    <tr>\n",
       "      <th>mean</th>\n",
       "      <td>4.189542</td>\n",
       "    </tr>\n",
       "    <tr>\n",
       "      <th>std</th>\n",
       "      <td>0.545452</td>\n",
       "    </tr>\n",
       "    <tr>\n",
       "      <th>min</th>\n",
       "      <td>1.000000</td>\n",
       "    </tr>\n",
       "    <tr>\n",
       "      <th>25%</th>\n",
       "      <td>4.000000</td>\n",
       "    </tr>\n",
       "    <tr>\n",
       "      <th>50%</th>\n",
       "      <td>4.300000</td>\n",
       "    </tr>\n",
       "    <tr>\n",
       "      <th>75%</th>\n",
       "      <td>4.500000</td>\n",
       "    </tr>\n",
       "    <tr>\n",
       "      <th>max</th>\n",
       "      <td>19.000000</td>\n",
       "    </tr>\n",
       "  </tbody>\n",
       "</table>\n",
       "</div>"
      ],
      "text/plain": [
       "            Rating\n",
       "count  8893.000000\n",
       "mean      4.189542\n",
       "std       0.545452\n",
       "min       1.000000\n",
       "25%       4.000000\n",
       "50%       4.300000\n",
       "75%       4.500000\n",
       "max      19.000000"
      ]
     },
     "execution_count": 8,
     "metadata": {},
     "output_type": "execute_result"
    }
   ],
   "source": [
    "df.describe() "
   ]
  },
  {
   "cell_type": "markdown",
   "id": "b860cdd8",
   "metadata": {},
   "source": [
    "Checking the object dtypes with the describe function"
   ]
  },
  {
   "cell_type": "code",
   "execution_count": 9,
   "id": "b03ff6b8",
   "metadata": {
    "ExecuteTime": {
     "end_time": "2023-02-12T11:27:31.854108Z",
     "start_time": "2023-02-12T11:27:31.795597Z"
    },
    "scrolled": true
   },
   "outputs": [
    {
     "data": {
      "text/html": [
       "<div>\n",
       "<style scoped>\n",
       "    .dataframe tbody tr th:only-of-type {\n",
       "        vertical-align: middle;\n",
       "    }\n",
       "\n",
       "    .dataframe tbody tr th {\n",
       "        vertical-align: top;\n",
       "    }\n",
       "\n",
       "    .dataframe thead th {\n",
       "        text-align: right;\n",
       "    }\n",
       "</style>\n",
       "<table border=\"1\" class=\"dataframe\">\n",
       "  <thead>\n",
       "    <tr style=\"text-align: right;\">\n",
       "      <th></th>\n",
       "      <th>App</th>\n",
       "      <th>Category</th>\n",
       "      <th>Reviews</th>\n",
       "      <th>Size</th>\n",
       "      <th>Installs</th>\n",
       "      <th>Type</th>\n",
       "      <th>Price</th>\n",
       "      <th>Content Rating</th>\n",
       "      <th>Genres</th>\n",
       "      <th>Last Updated</th>\n",
       "      <th>Current Ver</th>\n",
       "      <th>Android Ver</th>\n",
       "    </tr>\n",
       "  </thead>\n",
       "  <tbody>\n",
       "    <tr>\n",
       "      <th>count</th>\n",
       "      <td>10358</td>\n",
       "      <td>10358</td>\n",
       "      <td>10358</td>\n",
       "      <td>10358</td>\n",
       "      <td>10358</td>\n",
       "      <td>10357</td>\n",
       "      <td>10358</td>\n",
       "      <td>10357</td>\n",
       "      <td>10358</td>\n",
       "      <td>10358</td>\n",
       "      <td>10350</td>\n",
       "      <td>10355</td>\n",
       "    </tr>\n",
       "    <tr>\n",
       "      <th>unique</th>\n",
       "      <td>9660</td>\n",
       "      <td>34</td>\n",
       "      <td>6002</td>\n",
       "      <td>462</td>\n",
       "      <td>22</td>\n",
       "      <td>3</td>\n",
       "      <td>93</td>\n",
       "      <td>6</td>\n",
       "      <td>120</td>\n",
       "      <td>1378</td>\n",
       "      <td>2832</td>\n",
       "      <td>33</td>\n",
       "    </tr>\n",
       "    <tr>\n",
       "      <th>top</th>\n",
       "      <td>ROBLOX</td>\n",
       "      <td>FAMILY</td>\n",
       "      <td>0</td>\n",
       "      <td>Varies with device</td>\n",
       "      <td>1,000,000+</td>\n",
       "      <td>Free</td>\n",
       "      <td>0</td>\n",
       "      <td>Everyone</td>\n",
       "      <td>Tools</td>\n",
       "      <td>August 3, 2018</td>\n",
       "      <td>Varies with device</td>\n",
       "      <td>4.1 and up</td>\n",
       "    </tr>\n",
       "    <tr>\n",
       "      <th>freq</th>\n",
       "      <td>9</td>\n",
       "      <td>1943</td>\n",
       "      <td>593</td>\n",
       "      <td>1526</td>\n",
       "      <td>1488</td>\n",
       "      <td>9591</td>\n",
       "      <td>9592</td>\n",
       "      <td>8382</td>\n",
       "      <td>842</td>\n",
       "      <td>298</td>\n",
       "      <td>1302</td>\n",
       "      <td>2379</td>\n",
       "    </tr>\n",
       "  </tbody>\n",
       "</table>\n",
       "</div>"
      ],
      "text/plain": [
       "           App Category Reviews                Size    Installs   Type  Price  \\\n",
       "count    10358    10358   10358               10358       10358  10357  10358   \n",
       "unique    9660       34    6002                 462          22      3     93   \n",
       "top     ROBLOX   FAMILY       0  Varies with device  1,000,000+   Free      0   \n",
       "freq         9     1943     593                1526        1488   9591   9592   \n",
       "\n",
       "       Content Rating Genres    Last Updated         Current Ver Android Ver  \n",
       "count           10357  10358           10358               10350       10355  \n",
       "unique              6    120            1378                2832          33  \n",
       "top          Everyone  Tools  August 3, 2018  Varies with device  4.1 and up  \n",
       "freq             8382    842             298                1302        2379  "
      ]
     },
     "execution_count": 9,
     "metadata": {},
     "output_type": "execute_result"
    }
   ],
   "source": [
    "categorical = df.dtypes[df.dtypes == 'object'].index\n",
    "df[categorical].describe()"
   ]
  },
  {
   "cell_type": "markdown",
   "id": "103b8913",
   "metadata": {},
   "source": [
    "Removal Of  Unwanted Variables\n"
   ]
  },
  {
   "cell_type": "code",
   "execution_count": 10,
   "id": "ad19a6d1",
   "metadata": {
    "ExecuteTime": {
     "end_time": "2023-02-12T11:27:32.507832Z",
     "start_time": "2023-02-12T11:27:32.501819Z"
    }
   },
   "outputs": [],
   "source": [
    "del df['Genres'] # Genres and Category seems to be just the same"
   ]
  },
  {
   "cell_type": "markdown",
   "id": "c051af30",
   "metadata": {},
   "source": [
    "Fill Missing values with the common values in their columns"
   ]
  },
  {
   "cell_type": "code",
   "execution_count": 11,
   "id": "346fc6ba",
   "metadata": {
    "ExecuteTime": {
     "end_time": "2023-02-12T11:27:33.084268Z",
     "start_time": "2023-02-12T11:27:33.077292Z"
    }
   },
   "outputs": [],
   "source": [
    "missing_rating = np.where(df.Rating.isna()) # Check for the rows with missing values"
   ]
  },
  {
   "cell_type": "code",
   "execution_count": 12,
   "id": "1280259d",
   "metadata": {
    "ExecuteTime": {
     "end_time": "2023-02-12T11:27:33.356239Z",
     "start_time": "2023-02-12T11:27:33.350233Z"
    }
   },
   "outputs": [
    {
     "data": {
      "text/plain": [
       "1465"
      ]
     },
     "execution_count": 12,
     "metadata": {},
     "output_type": "execute_result"
    }
   ],
   "source": [
    "len(missing_rating[0])"
   ]
  },
  {
   "cell_type": "markdown",
   "id": "5500d4aa",
   "metadata": {},
   "source": [
    "With about 1465 NA it not appropriate throw throwing the record away.\n",
    "The dist of the rating to know the median that's best to fill it with. "
   ]
  },
  {
   "cell_type": "code",
   "execution_count": 13,
   "id": "40c000b5",
   "metadata": {
    "ExecuteTime": {
     "end_time": "2023-02-12T11:27:34.036949Z",
     "start_time": "2023-02-12T11:27:33.848066Z"
    },
    "scrolled": true
   },
   "outputs": [
    {
     "data": {
      "text/plain": [
       "<AxesSubplot:>"
      ]
     },
     "execution_count": 13,
     "metadata": {},
     "output_type": "execute_result"
    },
    {
     "data": {
      "image/png": "[encoded data removed]",
      "text/plain": [
       "<Figure size 640x480 with 1 Axes>"
      ]
     },
     "metadata": {},
     "output_type": "display_data"
    }
   ],
   "source": [
    "df.Rating.hist()"
   ]
  },
  {
   "cell_type": "code",
   "execution_count": 14,
   "id": "2d5fa037",
   "metadata": {
    "ExecuteTime": {
     "end_time": "2023-02-12T11:27:34.146630Z",
     "start_time": "2023-02-12T11:27:34.139620Z"
    }
   },
   "outputs": [
    {
     "name": "stderr",
     "output_type": "stream",
     "text": [
      "C:\\Users\\pc1\\AppData\\Local\\Temp\\ipykernel_26880\\3343265366.py:1: SettingWithCopyWarning: \n",
      "A value is trying to be set on a copy of a slice from a DataFrame.\n",
      "Try using .loc[row_indexer,col_indexer] = value instead\n",
      "\n",
      "See the caveats in the documentation: https://pandas.pydata.org/pandas-docs/stable/user_guide/indexing.html#returning-a-view-versus-a-copy\n",
      "  df['Rating'] = df.Rating.fillna(df.Rating.mean())\n"
     ]
    }
   ],
   "source": [
    "df['Rating'] = df.Rating.fillna(df.Rating.mean())"
   ]
  },
  {
   "cell_type": "code",
   "execution_count": 15,
   "id": "24755050",
   "metadata": {
    "ExecuteTime": {
     "end_time": "2023-02-12T11:27:34.569979Z",
     "start_time": "2023-02-12T11:27:34.556970Z"
    }
   },
   "outputs": [
    {
     "data": {
      "text/plain": [
       "count    10358.000000\n",
       "mean         4.189542\n",
       "std          0.505405\n",
       "min          1.000000\n",
       "25%          4.100000\n",
       "50%          4.200000\n",
       "75%          4.500000\n",
       "max         19.000000\n",
       "Name: Rating, dtype: float64"
      ]
     },
     "execution_count": 15,
     "metadata": {},
     "output_type": "execute_result"
    }
   ],
   "source": [
    "df.Rating.describe()"
   ]
  },
  {
   "cell_type": "code",
   "execution_count": 16,
   "id": "c1000408",
   "metadata": {
    "ExecuteTime": {
     "end_time": "2023-02-12T11:27:35.275887Z",
     "start_time": "2023-02-12T11:27:35.263881Z"
    }
   },
   "outputs": [
    {
     "name": "stderr",
     "output_type": "stream",
     "text": [
      "C:\\Users\\pc1\\AppData\\Local\\Temp\\ipykernel_26880\\117432490.py:1: SettingWithCopyWarning: \n",
      "A value is trying to be set on a copy of a slice from a DataFrame.\n",
      "Try using .loc[row_indexer,col_indexer] = value instead\n",
      "\n",
      "See the caveats in the documentation: https://pandas.pydata.org/pandas-docs/stable/user_guide/indexing.html#returning-a-view-versus-a-copy\n",
      "  df['Content Rating'] = df['Content Rating'].fillna('Everyone')\n"
     ]
    }
   ],
   "source": [
    "df['Content Rating'] = df['Content Rating'].fillna('Everyone')"
   ]
  },
  {
   "cell_type": "code",
   "execution_count": 17,
   "id": "971c49cb",
   "metadata": {
    "ExecuteTime": {
     "end_time": "2023-02-12T11:27:35.546813Z",
     "start_time": "2023-02-12T11:27:35.538827Z"
    }
   },
   "outputs": [
    {
     "name": "stderr",
     "output_type": "stream",
     "text": [
      "C:\\Users\\pc1\\AppData\\Local\\Temp\\ipykernel_26880\\488822724.py:1: SettingWithCopyWarning: \n",
      "A value is trying to be set on a copy of a slice from a DataFrame.\n",
      "Try using .loc[row_indexer,col_indexer] = value instead\n",
      "\n",
      "See the caveats in the documentation: https://pandas.pydata.org/pandas-docs/stable/user_guide/indexing.html#returning-a-view-versus-a-copy\n",
      "  df['Current Ver'] = df['Current Ver'].fillna('Varies with device')\n"
     ]
    }
   ],
   "source": [
    "df['Current Ver'] = df['Current Ver'].fillna('Varies with device')"
   ]
  },
  {
   "cell_type": "code",
   "execution_count": 18,
   "id": "c3034380",
   "metadata": {
    "ExecuteTime": {
     "end_time": "2023-02-12T11:27:35.796491Z",
     "start_time": "2023-02-12T11:27:35.789468Z"
    }
   },
   "outputs": [
    {
     "name": "stderr",
     "output_type": "stream",
     "text": [
      "C:\\Users\\pc1\\AppData\\Local\\Temp\\ipykernel_26880\\3593222692.py:1: SettingWithCopyWarning: \n",
      "A value is trying to be set on a copy of a slice from a DataFrame.\n",
      "Try using .loc[row_indexer,col_indexer] = value instead\n",
      "\n",
      "See the caveats in the documentation: https://pandas.pydata.org/pandas-docs/stable/user_guide/indexing.html#returning-a-view-versus-a-copy\n",
      "  df['Android Ver'] = df['Android Ver'].fillna('4.1 and up')\n"
     ]
    }
   ],
   "source": [
    "df['Android Ver'] = df['Android Ver'].fillna('4.1 and up')"
   ]
  },
  {
   "cell_type": "code",
   "execution_count": 19,
   "id": "b3033646",
   "metadata": {
    "ExecuteTime": {
     "end_time": "2023-02-12T11:27:36.028867Z",
     "start_time": "2023-02-12T11:27:36.003858Z"
    }
   },
   "outputs": [
    {
     "data": {
      "text/plain": [
       "App               0\n",
       "Category          0\n",
       "Rating            0\n",
       "Reviews           0\n",
       "Size              0\n",
       "Installs          0\n",
       "Type              1\n",
       "Price             0\n",
       "Content Rating    0\n",
       "Last Updated      0\n",
       "Current Ver       0\n",
       "Android Ver       0\n",
       "dtype: int64"
      ]
     },
     "execution_count": 19,
     "metadata": {},
     "output_type": "execute_result"
    }
   ],
   "source": [
    "df.isna().sum()"
   ]
  }
 ],
 "metadata": {
  "kernelspec": {
   "display_name": "Python 3 (ipykernel)",
   "language": "python",
   "name": "python3"
  },
  "language_info": {
   "codemirror_mode": {
    "name": "ipython",
    "version": 3
   },
   "file_extension": ".py",
   "mimetype": "text/x-python",
   "name": "python",
   "nbconvert_exporter": "python",
   "pygments_lexer": "ipython3",
   "version": "3.9.13"
  },
  "toc": {
   "base_numbering": 1,
   "nav_menu": {},
   "number_sections": true,
   "sideBar": true,
   "skip_h1_title": false,
   "title_cell": "Table of Contents",
   "title_sidebar": "Contents",
   "toc_cell": false,
   "toc_position": {},
   "toc_section_display": true,
   "toc_window_display": false
  },
  "varInspector": {
   "cols": {
    "lenName": 16,
    "lenType": 16,
    "lenVar": 40
   },
   "kernels_config": {
    "python": {
     "delete_cmd_postfix": "",
     "delete_cmd_prefix": "del ",
     "library": "var_list.py",
     "varRefreshCmd": "print(var_dic_list())"
    },
    "r": {
     "delete_cmd_postfix": ") ",
     "delete_cmd_prefix": "rm(",
     "library": "var_list.r",
     "varRefreshCmd": "cat(var_dic_list()) "
    }
   },
   "types_to_exclude": [
    "module",
    "function",
    "builtin_function_or_method",
    "instance",
    "_Feature"
   ],
   "window_display": false
  }
 },
 "nbformat": 4,
 "nbformat_minor": 5
}
